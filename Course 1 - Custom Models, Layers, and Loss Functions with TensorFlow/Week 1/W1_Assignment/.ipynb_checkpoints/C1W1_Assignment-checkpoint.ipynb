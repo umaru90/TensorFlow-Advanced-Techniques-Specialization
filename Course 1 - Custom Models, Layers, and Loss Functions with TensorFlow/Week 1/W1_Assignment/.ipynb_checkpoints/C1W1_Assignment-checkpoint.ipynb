{
 "cells": [
  {
   "cell_type": "markdown",
   "metadata": {
    "colab_type": "text",
    "id": "ZL_6GK8qX35J"
   },
   "source": [
    "\n",
    "\n",
    "# Week 1: Multiple Output Models using the Keras Functional API\n",
    "\n",
    "Welcome to the first programming assignment of the course! Your task will be to use the Keras functional API to train a model to predict two outputs. For this lab, you will use the **[Wine Quality Dataset](https://archive.ics.uci.edu/ml/datasets/Wine+Quality)** from the **UCI machine learning repository**. It has separate datasets for red wine and white wine.\n",
    "\n",
    "Normally, the wines are classified into one of the quality ratings specified in the attributes. In this exercise, you will combine the two datasets to predict the wine quality and whether the wine is red or white solely from the attributes. \n",
    "\n",
    "You will model wine quality estimations as a regression problem and wine type detection as a binary classification problem.\n",
    "\n",
    "#### Please complete sections that are marked **(TODO)**"
   ]
  },
  {
   "cell_type": "markdown",
   "metadata": {
    "colab_type": "text",
    "id": "obdcD6urYBY9"
   },
   "source": [
    "## Imports"
   ]
  },
  {
   "cell_type": "code",
   "execution_count": 1,
   "metadata": {
    "colab": {},
    "colab_type": "code",
    "id": "t8N3pcTQ5oQI"
   },
   "outputs": [],
   "source": [
    "import tensorflow as tf\n",
    "from tensorflow.keras.models import Model\n",
    "from tensorflow.keras.layers import Dense, Input\n",
    "\n",
    "import numpy as np\n",
    "import matplotlib.pyplot as plt\n",
    "import pandas as pd\n",
    "from sklearn.model_selection import train_test_split\n",
    "from sklearn.metrics import confusion_matrix, ConfusionMatrixDisplay\n",
    "import itertools\n",
    "\n",
    "import utils"
   ]
  },
  {
   "cell_type": "markdown",
   "metadata": {
    "colab_type": "text",
    "id": "gQMERzWQYpgm"
   },
   "source": [
    "## Load Dataset\n",
    "\n",
    "\n",
    "You will now load the dataset from the [UCI Machine Learning Repository](https://archive.ics.uci.edu/ml/index.php) which are **already saved** in your workspace (*Note: For successful grading, please **do not** modify the default string set to the `URI` variable below*).\n",
    "\n",
    "### Pre-process the white wine dataset (TODO)\n",
    "You will add a new column named `is_red` in your dataframe to indicate if the wine is white or red. \n",
    "- In the white wine dataset, you will fill the column `is_red` with  zeros (0)."
   ]
  },
  {
   "cell_type": "code",
   "execution_count": 2,
   "metadata": {
    "colab": {},
    "colab_type": "code",
    "deletable": false,
    "id": "2qYAjKXCd4RH",
    "nbgrader": {
     "cell_type": "code",
     "checksum": "325ea195519b7035934c95bb529a062c",
     "grade": false,
     "grade_id": "cell-e5bfa0f152d9a21f",
     "locked": false,
     "schema_version": 3,
     "solution": true,
     "task": false
    }
   },
   "outputs": [],
   "source": [
    "## Please uncomment all lines in this cell and replace those marked with `# YOUR CODE HERE`.\n",
    "## You can select all lines in this code cell with Ctrl+A (Windows/Linux) or Cmd+A (Mac), then press Ctrl+/ (Windows/Linux) or Cmd+/ (Mac) to uncomment.\n",
    "\n",
    "\n",
    "\n",
    "# # URL of the white wine dataset\n",
    "URI = './winequality-white.csv'\n",
    "\n",
    "# # load the dataset from the URL\n",
    "white_df = pd.read_csv(URI, sep=\";\")\n",
    "\n",
    "# # fill the `is_red` column with zeros.\n",
    "white_df[\"is_red\"] = 0\n",
    "\n",
    "# # keep only the first of duplicate items\n",
    "white_df = white_df.drop_duplicates(keep='first')\n"
   ]
  },
  {
   "cell_type": "code",
   "execution_count": 3,
   "metadata": {
    "deletable": false,
    "editable": false,
    "nbgrader": {
     "cell_type": "code",
     "checksum": "defe38d6ec58fd31cd67b89e46c4373f",
     "grade": true,
     "grade_id": "cell-30575e713b55fc51",
     "locked": true,
     "points": 1,
     "schema_version": 3,
     "solution": false,
     "task": false
    }
   },
   "outputs": [
    {
     "name": "stdout",
     "output_type": "stream",
     "text": [
      "\u001b[92m All public tests passed\n"
     ]
    }
   ],
   "source": [
    "# You can click `File -> Open` in the menu above and open the `utils.py` file \n",
    "# in case you want to inspect the unit tests being used for each graded function.\n",
    "\n",
    "utils.test_white_df(white_df)\n"
   ]
  },
  {
   "cell_type": "code",
   "execution_count": 4,
   "metadata": {
    "colab": {},
    "colab_type": "code",
    "id": "OQHK0ohBQRCk"
   },
   "outputs": [
    {
     "name": "stdout",
     "output_type": "stream",
     "text": [
      "8.8\n",
      "9.1\n"
     ]
    }
   ],
   "source": [
    "print(white_df.alcohol[0])\n",
    "print(white_df.alcohol[100])\n",
    "\n",
    "# EXPECTED OUTPUT\n",
    "# 8.8\n",
    "# 9.1"
   ]
  },
  {
   "cell_type": "markdown",
   "metadata": {},
   "source": [
    "### Pre-process the red wine dataset (TODO)\n",
    "- In the red wine dataset, you will fill in the column `is_red` with ones (1)."
   ]
  },
  {
   "cell_type": "code",
   "execution_count": 5,
   "metadata": {
    "colab": {},
    "colab_type": "code",
    "deletable": false,
    "id": "8y3QxKwBed8v",
    "nbgrader": {
     "cell_type": "code",
     "checksum": "12e0963d15be33b01b4e6ebc8945e51e",
     "grade": false,
     "grade_id": "cell-e47a40f306593274",
     "locked": false,
     "schema_version": 3,
     "solution": true,
     "task": false
    }
   },
   "outputs": [],
   "source": [
    "## Please uncomment all lines in this cell and replace those marked with `# YOUR CODE HERE`.\n",
    "## You can select all lines in this code cell with Ctrl+A (Windows/Linux) or Cmd+A (Mac), then press Ctrl+/ (Windows/Linux) or Cmd+/ (Mac) to uncomment.\n",
    "\n",
    "\n",
    "\n",
    "# # URL of the red wine dataset\n",
    "URI = './winequality-red.csv'\n",
    "\n",
    "# # load the dataset from the URL\n",
    "red_df = pd.read_csv(URI, sep=\";\")\n",
    "\n",
    "# # fill the `is_red` column with ones.\n",
    "red_df[\"is_red\"] = 1\n",
    "\n",
    "# # keep only the first of duplicate items\n",
    "red_df = red_df.drop_duplicates(keep='first')\n"
   ]
  },
  {
   "cell_type": "code",
   "execution_count": 6,
   "metadata": {
    "deletable": false,
    "editable": false,
    "nbgrader": {
     "cell_type": "code",
     "checksum": "d8e0c91b0fd668b63ba74a8f2f958b59",
     "grade": true,
     "grade_id": "cell-2a75937adcc0c25b",
     "locked": true,
     "points": 1,
     "schema_version": 3,
     "solution": false,
     "task": false
    }
   },
   "outputs": [
    {
     "name": "stdout",
     "output_type": "stream",
     "text": [
      "\u001b[92m All public tests passed\n"
     ]
    }
   ],
   "source": [
    "utils.test_red_df(red_df)\n"
   ]
  },
  {
   "cell_type": "code",
   "execution_count": 7,
   "metadata": {
    "colab": {},
    "colab_type": "code",
    "id": "zsB3LUzNQpo_"
   },
   "outputs": [
    {
     "name": "stdout",
     "output_type": "stream",
     "text": [
      "9.4\n",
      "10.2\n"
     ]
    }
   ],
   "source": [
    "print(red_df.alcohol[0])\n",
    "print(red_df.alcohol[100])\n",
    "\n",
    "# EXPECTED OUTPUT\n",
    "# 9.4\n",
    "# 10.2"
   ]
  },
  {
   "cell_type": "markdown",
   "metadata": {
    "colab_type": "text",
    "id": "2G8B-NYuM6-f"
   },
   "source": [
    "### Concatenate the datasets\n",
    "\n",
    "Next, concatenate the red and white wine dataframes."
   ]
  },
  {
   "cell_type": "code",
   "execution_count": 8,
   "metadata": {
    "colab": {},
    "colab_type": "code",
    "id": "YpQrOjJbfN3m"
   },
   "outputs": [],
   "source": [
    "df = pd.concat([red_df, white_df], ignore_index=True)"
   ]
  },
  {
   "cell_type": "code",
   "execution_count": 9,
   "metadata": {
    "colab": {},
    "colab_type": "code",
    "id": "Se2dTmThQyjb"
   },
   "outputs": [
    {
     "name": "stdout",
     "output_type": "stream",
     "text": [
      "9.4\n",
      "9.5\n"
     ]
    }
   ],
   "source": [
    "print(df.alcohol[0])\n",
    "print(df.alcohol[100])\n",
    "\n",
    "# EXPECTED OUTPUT\n",
    "# 9.4\n",
    "# 9.5"
   ]
  },
  {
   "cell_type": "markdown",
   "metadata": {},
   "source": [
    "In a real-world scenario, you should shuffle the data. For this assignment however, **you are not** going to do that because the grader needs to test with deterministic data. If you want the code to do it **after** you've gotten your grade for this notebook, we left the commented line below for reference"
   ]
  },
  {
   "cell_type": "code",
   "execution_count": 10,
   "metadata": {
    "colab": {},
    "colab_type": "code",
    "id": "wx6y3rPpQv4k"
   },
   "outputs": [],
   "source": [
    "df = df.iloc[np.random.permutation(len(df))]"
   ]
  },
  {
   "cell_type": "markdown",
   "metadata": {
    "colab_type": "text",
    "id": "-EqIcbg5M_n1"
   },
   "source": [
    "This will chart the quality of the wines."
   ]
  },
  {
   "cell_type": "code",
   "execution_count": 11,
   "metadata": {
    "colab": {},
    "colab_type": "code",
    "id": "IsvK0-Sgy17C"
   },
   "outputs": [
    {
     "data": {
      "image/png": "[encoded data removed]",
      "text/plain": [
       "<Figure size 432x288 with 1 Axes>"
      ]
     },
     "metadata": {
      "needs_background": "light"
     },
     "output_type": "display_data"
    }
   ],
   "source": [
    "df['quality'].hist(bins=20);"
   ]
  },
  {
   "cell_type": "markdown",
   "metadata": {
    "colab_type": "text",
    "id": "Nut1rmYLzf-p"
   },
   "source": [
    "### Imbalanced data (TODO)\n",
    "You can see from the plot above that the wine quality dataset is imbalanced. \n",
    "- Since there are very few observations with quality equal to 3, 4, 8 and 9, you can drop these observations from your dataset. \n",
    "- You can do this by removing data belonging to all classes except those > 4 and < 8."
   ]
  },
  {
   "cell_type": "code",
   "execution_count": 47,
   "metadata": {
    "colab": {},
    "colab_type": "code",
    "deletable": false,
    "id": "doH9_-gnf3sz",
    "nbgrader": {
     "cell_type": "code",
     "checksum": "d9ba9fc3a3ca02ccc567be33652b80fe",
     "grade": false,
     "grade_id": "cell-6a3e9db696f6827b",
     "locked": false,
     "schema_version": 3,
     "solution": true,
     "task": false
    }
   },
   "outputs": [],
   "source": [
    "## Please uncomment all lines in this cell and replace those marked with `# YOUR CODE HERE`.\n",
    "## You can select all lines in this code cell with Ctrl+A (Windows/Linux) or Cmd+A (Mac), then press Ctrl+/ (Windows/Linux) or Cmd+/ (Mac) to uncomment.\n",
    "\n",
    "\n",
    "\n",
    "# get data with wine quality greater than 4 and less than 8\n",
    "df = df[(df['quality'] > 4) & (df['quality'] < 8)]\n",
    "\n",
    "# reset index and drop the old one\n",
    "df = df.reset_index(drop=True)"
   ]
  },
  {
   "cell_type": "code",
   "execution_count": 48,
   "metadata": {
    "deletable": false,
    "editable": false,
    "nbgrader": {
     "cell_type": "code",
     "checksum": "281e1d86a4803560ed5892cd7eda4c01",
     "grade": true,
     "grade_id": "cell-aed3da719d4682c7",
     "locked": true,
     "points": 1,
     "schema_version": 3,
     "solution": false,
     "task": false
    }
   },
   "outputs": [
    {
     "name": "stdout",
     "output_type": "stream",
     "text": [
      "df.alcohol[0]_check: Value is not as expected. Please check quality interval.\n",
      "Expected: 9.4\n",
      "Result: 12.2\n",
      "Please open utils.py if you want to see the unit test here.\n",
      "\n",
      "df.alcohol[100]_check: Value is not as expected. Please check quality interval.\n",
      "Expected: 10.9\n",
      "Result: 10.0\n",
      "Please open utils.py if you want to see the unit test here.\n",
      "\n",
      "\u001b[92m 0  Tests passed\n",
      "\u001b[91m 2  Tests failed\n"
     ]
    },
    {
     "ename": "Exception",
     "evalue": "Please check the error messages above.",
     "output_type": "error",
     "traceback": [
      "\u001b[0;31m---------------------------------------------------------------------------\u001b[0m",
      "\u001b[0;31mException\u001b[0m                                 Traceback (most recent call last)",
      "\u001b[0;32m<ipython-input-48-02ac41180da9>\u001b[0m in \u001b[0;36m<module>\u001b[0;34m\u001b[0m\n\u001b[0;32m----> 1\u001b[0;31m \u001b[0mutils\u001b[0m\u001b[0;34m.\u001b[0m\u001b[0mtest_df_drop\u001b[0m\u001b[0;34m(\u001b[0m\u001b[0mdf\u001b[0m\u001b[0;34m)\u001b[0m\u001b[0;34m\u001b[0m\u001b[0;34m\u001b[0m\u001b[0m\n\u001b[0m\u001b[1;32m      2\u001b[0m \u001b[0;34m\u001b[0m\u001b[0m\n",
      "\u001b[0;32m~/work/release/W1_Assignment/utils.py\u001b[0m in \u001b[0;36mtest_df_drop\u001b[0;34m(df)\u001b[0m\n\u001b[1;32m     94\u001b[0m     ]\n\u001b[1;32m     95\u001b[0m \u001b[0;34m\u001b[0m\u001b[0m\n\u001b[0;32m---> 96\u001b[0;31m     \u001b[0mtest_loop\u001b[0m\u001b[0;34m(\u001b[0m\u001b[0mtest_cases\u001b[0m\u001b[0;34m)\u001b[0m\u001b[0;34m\u001b[0m\u001b[0;34m\u001b[0m\u001b[0m\n\u001b[0m\u001b[1;32m     97\u001b[0m \u001b[0;34m\u001b[0m\u001b[0m\n\u001b[1;32m     98\u001b[0m \u001b[0;32mdef\u001b[0m \u001b[0mtest_data_sizes\u001b[0m\u001b[0;34m(\u001b[0m\u001b[0mtrain_size\u001b[0m\u001b[0;34m,\u001b[0m \u001b[0mtest_size\u001b[0m\u001b[0;34m,\u001b[0m \u001b[0mval_size\u001b[0m\u001b[0;34m)\u001b[0m\u001b[0;34m:\u001b[0m\u001b[0;34m\u001b[0m\u001b[0;34m\u001b[0m\u001b[0m\n",
      "\u001b[0;32m~/work/release/W1_Assignment/utils.py\u001b[0m in \u001b[0;36mtest_loop\u001b[0;34m(test_cases)\u001b[0m\n\u001b[1;32m     25\u001b[0m         \u001b[0mprint\u001b[0m\u001b[0;34m(\u001b[0m\u001b[0;34m'\\033[92m'\u001b[0m\u001b[0;34m,\u001b[0m \u001b[0msuccess\u001b[0m\u001b[0;34m,\u001b[0m\u001b[0;34m\" Tests passed\"\u001b[0m\u001b[0;34m)\u001b[0m\u001b[0;34m\u001b[0m\u001b[0;34m\u001b[0m\u001b[0m\n\u001b[1;32m     26\u001b[0m         \u001b[0mprint\u001b[0m\u001b[0;34m(\u001b[0m\u001b[0;34m'\\033[91m'\u001b[0m\u001b[0;34m,\u001b[0m \u001b[0mfails\u001b[0m\u001b[0;34m,\u001b[0m \u001b[0;34m\" Tests failed\"\u001b[0m\u001b[0;34m)\u001b[0m\u001b[0;34m\u001b[0m\u001b[0;34m\u001b[0m\u001b[0m\n\u001b[0;32m---> 27\u001b[0;31m         \u001b[0;32mraise\u001b[0m \u001b[0mException\u001b[0m\u001b[0;34m(\u001b[0m\u001b[0;34m\"Please check the error messages above.\"\u001b[0m\u001b[0;34m)\u001b[0m\u001b[0;34m\u001b[0m\u001b[0;34m\u001b[0m\u001b[0m\n\u001b[0m\u001b[1;32m     28\u001b[0m \u001b[0;34m\u001b[0m\u001b[0m\n\u001b[1;32m     29\u001b[0m \u001b[0;32mdef\u001b[0m \u001b[0mtest_white_df\u001b[0m\u001b[0;34m(\u001b[0m\u001b[0mwhite_df\u001b[0m\u001b[0;34m)\u001b[0m\u001b[0;34m:\u001b[0m\u001b[0;34m\u001b[0m\u001b[0;34m\u001b[0m\u001b[0m\n",
      "\u001b[0;31mException\u001b[0m: Please check the error messages above."
     ]
    }
   ],
   "source": [
    "utils.test_df_drop(df)\n",
    "\n"
   ]
  },
  {
   "cell_type": "code",
   "execution_count": 49,
   "metadata": {
    "colab": {},
    "colab_type": "code",
    "id": "xNR1iAlMRPXO"
   },
   "outputs": [
    {
     "name": "stdout",
     "output_type": "stream",
     "text": [
      "12.2\n",
      "10.0\n"
     ]
    }
   ],
   "source": [
    "print(df.alcohol[0])\n",
    "print(df.alcohol[100])\n",
    "\n",
    "# EXPECTED OUTPUT\n",
    "# 9.4\n",
    "# 10.9"
   ]
  },
  {
   "cell_type": "markdown",
   "metadata": {
    "colab_type": "text",
    "id": "cwhuRpnVRTzG"
   },
   "source": [
    "You can plot again to see the new range of data and quality"
   ]
  },
  {
   "cell_type": "code",
   "execution_count": 15,
   "metadata": {
    "colab": {},
    "colab_type": "code",
    "id": "857ygzZiLgGg"
   },
   "outputs": [
    {
     "data": {
      "image/png": "[encoded data removed]",
      "text/plain": [
       "<Figure size 432x288 with 1 Axes>"
      ]
     },
     "metadata": {
      "needs_background": "light"
     },
     "output_type": "display_data"
    }
   ],
   "source": [
    "df['quality'].hist(bins=20);"
   ]
  },
  {
   "cell_type": "markdown",
   "metadata": {
    "colab_type": "text",
    "id": "n3k0vqSsp84t"
   },
   "source": [
    "### Train Test Split (TODO)\n",
    "\n",
    "Next, you can split the datasets into training, test and validation datasets.\n",
    "- The data frame should be split 80:20 into `train` and `test` sets.\n",
    "- The resulting `train` should then be split 80:20 into `train` and `val` sets.\n",
    "- The `train_test_split` parameter `test_size` takes a float value that ranges between 0. and 1, and represents the proportion of the dataset that is allocated to the test set.  The rest of the data is allocated to the training set."
   ]
  },
  {
   "cell_type": "code",
   "execution_count": 16,
   "metadata": {
    "colab": {},
    "colab_type": "code",
    "deletable": false,
    "id": "PAVIf2-fgRVY",
    "nbgrader": {
     "cell_type": "code",
     "checksum": "7f5738f4fb51d65adc9a8acbdf2b9970",
     "grade": false,
     "grade_id": "cell-91946cadf745206b",
     "locked": false,
     "schema_version": 3,
     "solution": true,
     "task": false
    }
   },
   "outputs": [],
   "source": [
    "## Please uncomment all lines in this cell and replace those marked with `# YOUR CODE HERE`.\n",
    "## You can select all lines in this code cell with Ctrl+A (Windows/Linux) or Cmd+A (Mac), then press Ctrl+/ (Windows/Linux) or Cmd+/ (Mac) to uncomment.\n",
    "\n",
    "\n",
    "\n",
    "## Please do not change the random_state parameter. This is needed for grading.\n",
    "\n",
    "# # split df into 80:20 train and test sets\n",
    "train, test = train_test_split(df, test_size=0.2, random_state = 1)\n",
    "                               \n",
    "# # split train into 80:20 train and val sets\n",
    "train, val = train_test_split(train, test_size=0.2, random_state = 1)"
   ]
  },
  {
   "cell_type": "code",
   "execution_count": 17,
   "metadata": {
    "colab": {},
    "colab_type": "code",
    "deletable": false,
    "editable": false,
    "id": "57h9LcEzRWpk",
    "nbgrader": {
     "cell_type": "code",
     "checksum": "42adbe9e66efac7c7a5f8cd73ac92f22",
     "grade": true,
     "grade_id": "cell-64b8b38cd0b965f6",
     "locked": true,
     "points": 1,
     "schema_version": 3,
     "solution": false,
     "task": false
    }
   },
   "outputs": [
    {
     "name": "stdout",
     "output_type": "stream",
     "text": [
      "\u001b[92m All public tests passed\n"
     ]
    }
   ],
   "source": [
    "utils.test_data_sizes(train.size, test.size, val.size)\n",
    "\n"
   ]
  },
  {
   "cell_type": "markdown",
   "metadata": {
    "colab_type": "text",
    "id": "RwTNu4KFqG-K"
   },
   "source": [
    "Here's where you can explore the training stats. You can pop the labels 'is_red' and 'quality' from the data as these will be used as the labels\n"
   ]
  },
  {
   "cell_type": "code",
   "execution_count": 18,
   "metadata": {
    "colab": {},
    "colab_type": "code",
    "id": "Y_afyhhHM6WQ"
   },
   "outputs": [],
   "source": [
    "train_stats = train.describe()\n",
    "train_stats.pop('is_red')\n",
    "train_stats.pop('quality')\n",
    "train_stats = train_stats.transpose()"
   ]
  },
  {
   "cell_type": "markdown",
   "metadata": {
    "colab_type": "text",
    "id": "ahvbYm4fNqSt"
   },
   "source": [
    "Explore the training stats!"
   ]
  },
  {
   "cell_type": "code",
   "execution_count": 19,
   "metadata": {
    "colab": {},
    "colab_type": "code",
    "id": "n_gAtPjZ0otF"
   },
   "outputs": [
    {
     "data": {
      "text/html": [
       "<div>\n",
       "<style scoped>\n",
       "    .dataframe tbody tr th:only-of-type {\n",
       "        vertical-align: middle;\n",
       "    }\n",
       "\n",
       "    .dataframe tbody tr th {\n",
       "        vertical-align: top;\n",
       "    }\n",
       "\n",
       "    .dataframe thead th {\n",
       "        text-align: right;\n",
       "    }\n",
       "</style>\n",
       "<table border=\"1\" class=\"dataframe\">\n",
       "  <thead>\n",
       "    <tr style=\"text-align: right;\">\n",
       "      <th></th>\n",
       "      <th>count</th>\n",
       "      <th>mean</th>\n",
       "      <th>std</th>\n",
       "      <th>min</th>\n",
       "      <th>25%</th>\n",
       "      <th>50%</th>\n",
       "      <th>75%</th>\n",
       "      <th>max</th>\n",
       "    </tr>\n",
       "  </thead>\n",
       "  <tbody>\n",
       "    <tr>\n",
       "      <th>fixed acidity</th>\n",
       "      <td>3155.0</td>\n",
       "      <td>7.223946</td>\n",
       "      <td>1.325804</td>\n",
       "      <td>3.80000</td>\n",
       "      <td>6.400000</td>\n",
       "      <td>7.00000</td>\n",
       "      <td>7.7000</td>\n",
       "      <td>15.60000</td>\n",
       "    </tr>\n",
       "    <tr>\n",
       "      <th>volatile acidity</th>\n",
       "      <td>3155.0</td>\n",
       "      <td>0.338247</td>\n",
       "      <td>0.159854</td>\n",
       "      <td>0.08000</td>\n",
       "      <td>0.230000</td>\n",
       "      <td>0.29000</td>\n",
       "      <td>0.4100</td>\n",
       "      <td>1.33000</td>\n",
       "    </tr>\n",
       "    <tr>\n",
       "      <th>citric acid</th>\n",
       "      <td>3155.0</td>\n",
       "      <td>0.323604</td>\n",
       "      <td>0.146300</td>\n",
       "      <td>0.00000</td>\n",
       "      <td>0.250000</td>\n",
       "      <td>0.31000</td>\n",
       "      <td>0.4000</td>\n",
       "      <td>1.66000</td>\n",
       "    </tr>\n",
       "    <tr>\n",
       "      <th>residual sugar</th>\n",
       "      <td>3155.0</td>\n",
       "      <td>5.099525</td>\n",
       "      <td>4.558404</td>\n",
       "      <td>0.60000</td>\n",
       "      <td>1.800000</td>\n",
       "      <td>2.80000</td>\n",
       "      <td>7.6000</td>\n",
       "      <td>65.80000</td>\n",
       "    </tr>\n",
       "    <tr>\n",
       "      <th>chlorides</th>\n",
       "      <td>3155.0</td>\n",
       "      <td>0.056814</td>\n",
       "      <td>0.036046</td>\n",
       "      <td>0.00900</td>\n",
       "      <td>0.038000</td>\n",
       "      <td>0.04700</td>\n",
       "      <td>0.0670</td>\n",
       "      <td>0.61100</td>\n",
       "    </tr>\n",
       "    <tr>\n",
       "      <th>free sulfur dioxide</th>\n",
       "      <td>3155.0</td>\n",
       "      <td>30.110618</td>\n",
       "      <td>17.139075</td>\n",
       "      <td>1.00000</td>\n",
       "      <td>17.000000</td>\n",
       "      <td>28.00000</td>\n",
       "      <td>41.0000</td>\n",
       "      <td>128.00000</td>\n",
       "    </tr>\n",
       "    <tr>\n",
       "      <th>total sulfur dioxide</th>\n",
       "      <td>3155.0</td>\n",
       "      <td>114.149128</td>\n",
       "      <td>56.021729</td>\n",
       "      <td>6.00000</td>\n",
       "      <td>75.500000</td>\n",
       "      <td>117.00000</td>\n",
       "      <td>154.0000</td>\n",
       "      <td>344.00000</td>\n",
       "    </tr>\n",
       "    <tr>\n",
       "      <th>density</th>\n",
       "      <td>3155.0</td>\n",
       "      <td>0.994582</td>\n",
       "      <td>0.003014</td>\n",
       "      <td>0.98711</td>\n",
       "      <td>0.992255</td>\n",
       "      <td>0.99474</td>\n",
       "      <td>0.9968</td>\n",
       "      <td>1.03898</td>\n",
       "    </tr>\n",
       "    <tr>\n",
       "      <th>pH</th>\n",
       "      <td>3155.0</td>\n",
       "      <td>3.221626</td>\n",
       "      <td>0.157786</td>\n",
       "      <td>2.72000</td>\n",
       "      <td>3.120000</td>\n",
       "      <td>3.21000</td>\n",
       "      <td>3.3200</td>\n",
       "      <td>4.01000</td>\n",
       "    </tr>\n",
       "    <tr>\n",
       "      <th>sulphates</th>\n",
       "      <td>3155.0</td>\n",
       "      <td>0.535575</td>\n",
       "      <td>0.146321</td>\n",
       "      <td>0.22000</td>\n",
       "      <td>0.440000</td>\n",
       "      <td>0.51000</td>\n",
       "      <td>0.6000</td>\n",
       "      <td>1.98000</td>\n",
       "    </tr>\n",
       "    <tr>\n",
       "      <th>alcohol</th>\n",
       "      <td>3155.0</td>\n",
       "      <td>10.528652</td>\n",
       "      <td>1.174438</td>\n",
       "      <td>8.40000</td>\n",
       "      <td>9.500000</td>\n",
       "      <td>10.40000</td>\n",
       "      <td>11.3000</td>\n",
       "      <td>14.00000</td>\n",
       "    </tr>\n",
       "  </tbody>\n",
       "</table>\n",
       "</div>"
      ],
      "text/plain": [
       "                       count        mean        std      min        25%  \\\n",
       "fixed acidity         3155.0    7.223946   1.325804  3.80000   6.400000   \n",
       "volatile acidity      3155.0    0.338247   0.159854  0.08000   0.230000   \n",
       "citric acid           3155.0    0.323604   0.146300  0.00000   0.250000   \n",
       "residual sugar        3155.0    5.099525   4.558404  0.60000   1.800000   \n",
       "chlorides             3155.0    0.056814   0.036046  0.00900   0.038000   \n",
       "free sulfur dioxide   3155.0   30.110618  17.139075  1.00000  17.000000   \n",
       "total sulfur dioxide  3155.0  114.149128  56.021729  6.00000  75.500000   \n",
       "density               3155.0    0.994582   0.003014  0.98711   0.992255   \n",
       "pH                    3155.0    3.221626   0.157786  2.72000   3.120000   \n",
       "sulphates             3155.0    0.535575   0.146321  0.22000   0.440000   \n",
       "alcohol               3155.0   10.528652   1.174438  8.40000   9.500000   \n",
       "\n",
       "                            50%       75%        max  \n",
       "fixed acidity           7.00000    7.7000   15.60000  \n",
       "volatile acidity        0.29000    0.4100    1.33000  \n",
       "citric acid             0.31000    0.4000    1.66000  \n",
       "residual sugar          2.80000    7.6000   65.80000  \n",
       "chlorides               0.04700    0.0670    0.61100  \n",
       "free sulfur dioxide    28.00000   41.0000  128.00000  \n",
       "total sulfur dioxide  117.00000  154.0000  344.00000  \n",
       "density                 0.99474    0.9968    1.03898  \n",
       "pH                      3.21000    3.3200    4.01000  \n",
       "sulphates               0.51000    0.6000    1.98000  \n",
       "alcohol                10.40000   11.3000   14.00000  "
      ]
     },
     "execution_count": 19,
     "metadata": {},
     "output_type": "execute_result"
    }
   ],
   "source": [
    "train_stats"
   ]
  },
  {
   "cell_type": "markdown",
   "metadata": {
    "colab_type": "text",
    "id": "bGPvt9jir_HC"
   },
   "source": [
    "### Get the labels (TODO)\n",
    "\n",
    "The features and labels are currently in the same dataframe.\n",
    "- You will want to store the label columns `is_red` and `quality` separately from the feature columns.  \n",
    "- The following function, `format_output`, gets these two columns from the dataframe (it's given to you).\n",
    "- `format_output` also formats the data into numpy arrays. \n",
    "- Please use the `format_output` and apply it to the `train`, `val` and `test` sets to get dataframes for the labels."
   ]
  },
  {
   "cell_type": "code",
   "execution_count": 20,
   "metadata": {
    "colab": {},
    "colab_type": "code",
    "id": "Z_fs14XQqZVP"
   },
   "outputs": [],
   "source": [
    "def format_output(data):\n",
    "    is_red = data.pop('is_red')\n",
    "    is_red = np.array(is_red)\n",
    "    quality = data.pop('quality')\n",
    "    quality = np.array(quality)\n",
    "    return (quality, is_red)"
   ]
  },
  {
   "cell_type": "code",
   "execution_count": 21,
   "metadata": {
    "colab": {},
    "colab_type": "code",
    "deletable": false,
    "id": "8L3ZZe1fQicm",
    "nbgrader": {
     "cell_type": "code",
     "checksum": "7a86809e54895a816434c48dc903f55d",
     "grade": false,
     "grade_id": "cell-5c30fa2c2a354b0f",
     "locked": false,
     "schema_version": 3,
     "solution": true,
     "task": false
    }
   },
   "outputs": [],
   "source": [
    "## Please uncomment all lines in this cell and replace those marked with `# YOUR CODE HERE`.\n",
    "## You can select all lines in this code cell with Ctrl+A (Windows/Linux) or Cmd+A (Mac), then press Ctrl+/ (Windows/Linux) or Cmd+/ (Mac) to uncomment.\n",
    "\n",
    "\n",
    "\n",
    "# # format the output of the train set\n",
    "train_Y = format_output(train)\n",
    "\n",
    "# # format the output of the val set\n",
    "val_Y = format_output(val)\n",
    "    \n",
    "# # format the output of the test set\n",
    "test_Y = format_output(test)"
   ]
  },
  {
   "cell_type": "code",
   "execution_count": 22,
   "metadata": {
    "deletable": false,
    "editable": false,
    "nbgrader": {
     "cell_type": "code",
     "checksum": "359cabbafaed14ec9bbc1e57a7b6f32c",
     "grade": true,
     "grade_id": "cell-4977d8befb80f56b",
     "locked": true,
     "points": 1,
     "schema_version": 3,
     "solution": false,
     "task": false
    }
   },
   "outputs": [
    {
     "name": "stdout",
     "output_type": "stream",
     "text": [
      "\u001b[92m All public tests passed\n"
     ]
    }
   ],
   "source": [
    "utils.test_format_output(df, train_Y, val_Y, test_Y)"
   ]
  },
  {
   "cell_type": "markdown",
   "metadata": {},
   "source": [
    "Notice that after you get the labels, the `train`, `val` and `test` dataframes no longer contain the label columns, and contain just the feature columns.\n",
    "- This is because you used `.pop` in the `format_output` function."
   ]
  },
  {
   "cell_type": "code",
   "execution_count": 23,
   "metadata": {},
   "outputs": [
    {
     "data": {
      "text/html": [
       "<div>\n",
       "<style scoped>\n",
       "    .dataframe tbody tr th:only-of-type {\n",
       "        vertical-align: middle;\n",
       "    }\n",
       "\n",
       "    .dataframe tbody tr th {\n",
       "        vertical-align: top;\n",
       "    }\n",
       "\n",
       "    .dataframe thead th {\n",
       "        text-align: right;\n",
       "    }\n",
       "</style>\n",
       "<table border=\"1\" class=\"dataframe\">\n",
       "  <thead>\n",
       "    <tr style=\"text-align: right;\">\n",
       "      <th></th>\n",
       "      <th>fixed acidity</th>\n",
       "      <th>volatile acidity</th>\n",
       "      <th>citric acid</th>\n",
       "      <th>residual sugar</th>\n",
       "      <th>chlorides</th>\n",
       "      <th>free sulfur dioxide</th>\n",
       "      <th>total sulfur dioxide</th>\n",
       "      <th>density</th>\n",
       "      <th>pH</th>\n",
       "      <th>sulphates</th>\n",
       "      <th>alcohol</th>\n",
       "    </tr>\n",
       "  </thead>\n",
       "  <tbody>\n",
       "    <tr>\n",
       "      <th>225</th>\n",
       "      <td>5.9</td>\n",
       "      <td>0.370</td>\n",
       "      <td>0.30</td>\n",
       "      <td>1.5</td>\n",
       "      <td>0.033</td>\n",
       "      <td>35.0</td>\n",
       "      <td>95.0</td>\n",
       "      <td>0.98986</td>\n",
       "      <td>3.36</td>\n",
       "      <td>0.56</td>\n",
       "      <td>12.0</td>\n",
       "    </tr>\n",
       "    <tr>\n",
       "      <th>3557</th>\n",
       "      <td>7.1</td>\n",
       "      <td>0.270</td>\n",
       "      <td>0.24</td>\n",
       "      <td>12.6</td>\n",
       "      <td>0.044</td>\n",
       "      <td>48.0</td>\n",
       "      <td>118.0</td>\n",
       "      <td>0.99726</td>\n",
       "      <td>3.04</td>\n",
       "      <td>0.56</td>\n",
       "      <td>10.0</td>\n",
       "    </tr>\n",
       "    <tr>\n",
       "      <th>3825</th>\n",
       "      <td>7.4</td>\n",
       "      <td>0.160</td>\n",
       "      <td>0.33</td>\n",
       "      <td>1.2</td>\n",
       "      <td>0.042</td>\n",
       "      <td>47.0</td>\n",
       "      <td>121.0</td>\n",
       "      <td>0.99198</td>\n",
       "      <td>3.04</td>\n",
       "      <td>0.68</td>\n",
       "      <td>10.5</td>\n",
       "    </tr>\n",
       "    <tr>\n",
       "      <th>1740</th>\n",
       "      <td>5.8</td>\n",
       "      <td>0.275</td>\n",
       "      <td>0.30</td>\n",
       "      <td>5.4</td>\n",
       "      <td>0.043</td>\n",
       "      <td>41.0</td>\n",
       "      <td>149.0</td>\n",
       "      <td>0.99260</td>\n",
       "      <td>3.33</td>\n",
       "      <td>0.42</td>\n",
       "      <td>10.8</td>\n",
       "    </tr>\n",
       "    <tr>\n",
       "      <th>1221</th>\n",
       "      <td>8.0</td>\n",
       "      <td>0.190</td>\n",
       "      <td>0.36</td>\n",
       "      <td>1.8</td>\n",
       "      <td>0.050</td>\n",
       "      <td>16.0</td>\n",
       "      <td>84.0</td>\n",
       "      <td>0.99360</td>\n",
       "      <td>3.15</td>\n",
       "      <td>0.45</td>\n",
       "      <td>9.8</td>\n",
       "    </tr>\n",
       "  </tbody>\n",
       "</table>\n",
       "</div>"
      ],
      "text/plain": [
       "      fixed acidity  volatile acidity  citric acid  residual sugar  chlorides  \\\n",
       "225             5.9             0.370         0.30             1.5      0.033   \n",
       "3557            7.1             0.270         0.24            12.6      0.044   \n",
       "3825            7.4             0.160         0.33             1.2      0.042   \n",
       "1740            5.8             0.275         0.30             5.4      0.043   \n",
       "1221            8.0             0.190         0.36             1.8      0.050   \n",
       "\n",
       "      free sulfur dioxide  total sulfur dioxide  density    pH  sulphates  \\\n",
       "225                  35.0                  95.0  0.98986  3.36       0.56   \n",
       "3557                 48.0                 118.0  0.99726  3.04       0.56   \n",
       "3825                 47.0                 121.0  0.99198  3.04       0.68   \n",
       "1740                 41.0                 149.0  0.99260  3.33       0.42   \n",
       "1221                 16.0                  84.0  0.99360  3.15       0.45   \n",
       "\n",
       "      alcohol  \n",
       "225      12.0  \n",
       "3557     10.0  \n",
       "3825     10.5  \n",
       "1740     10.8  \n",
       "1221      9.8  "
      ]
     },
     "execution_count": 23,
     "metadata": {},
     "output_type": "execute_result"
    }
   ],
   "source": [
    "train.head()"
   ]
  },
  {
   "cell_type": "markdown",
   "metadata": {
    "colab_type": "text",
    "id": "hEdbrruAsN1D"
   },
   "source": [
    "### Normalize the data (TODO)\n",
    "\n",
    "Next, you can normalize the data, x, using the formula:\n",
    "$$x_{norm} = \\frac{x - \\mu}{\\sigma}$$\n",
    "- The `norm` function is defined for you.\n",
    "- Please apply the `norm` function to normalize the dataframes that contains the feature columns of `train`, `val` and `test` sets."
   ]
  },
  {
   "cell_type": "code",
   "execution_count": 24,
   "metadata": {
    "colab": {},
    "colab_type": "code",
    "id": "WWiZPAHCLjUs"
   },
   "outputs": [],
   "source": [
    "def norm(x):\n",
    "    return (x - train_stats['mean']) / train_stats['std']"
   ]
  },
  {
   "cell_type": "code",
   "execution_count": 25,
   "metadata": {
    "colab": {},
    "colab_type": "code",
    "deletable": false,
    "id": "JEaOi2I2Lk69",
    "nbgrader": {
     "cell_type": "code",
     "checksum": "6bc0cdcb563d192f271067aa3373ff32",
     "grade": false,
     "grade_id": "cell-d8416d975c371095",
     "locked": false,
     "schema_version": 3,
     "solution": true,
     "task": false
    }
   },
   "outputs": [],
   "source": [
    "## Please uncomment all lines in this cell and replace those marked with `# YOUR CODE HERE`.\n",
    "## You can select all lines in this code cell with Ctrl+A (Windows/Linux) or Cmd+A (Mac), then press Ctrl+/ (Windows/Linux) or Cmd+/ (Mac) to uncomment.\n",
    "\n",
    "\n",
    "\n",
    "# # normalize the train set\n",
    "norm_train_X = norm(train)\n",
    "    \n",
    "# # normalize the val set\n",
    "norm_val_X = norm(val)\n",
    "    \n",
    "# # normalize the test set\n",
    "norm_test_X = norm(test)"
   ]
  },
  {
   "cell_type": "code",
   "execution_count": 26,
   "metadata": {
    "deletable": false,
    "editable": false,
    "nbgrader": {
     "cell_type": "code",
     "checksum": "4f567db45bf40191601780379cc100b8",
     "grade": true,
     "grade_id": "cell-97fad979d157529b",
     "locked": true,
     "points": 1,
     "schema_version": 3,
     "solution": false,
     "task": false
    }
   },
   "outputs": [
    {
     "name": "stdout",
     "output_type": "stream",
     "text": [
      "\u001b[92m All public tests passed\n"
     ]
    }
   ],
   "source": [
    "utils.test_norm(norm_train_X, norm_val_X, norm_test_X, train, val, test)\n"
   ]
  },
  {
   "cell_type": "markdown",
   "metadata": {
    "colab_type": "text",
    "id": "hzykDwQhsaPO"
   },
   "source": [
    "## Define the Model (TODO)\n",
    "\n",
    "Define the model using the functional API. The base model will be 2 `Dense` layers of 128 neurons each, and have the `'relu'` activation.\n",
    "- Check out the documentation for [tf.keras.layers.Dense](https://www.tensorflow.org/api_docs/python/tf/keras/layers/Dense)"
   ]
  },
  {
   "cell_type": "code",
   "execution_count": 31,
   "metadata": {
    "colab": {},
    "colab_type": "code",
    "deletable": false,
    "id": "Rhcns3oTFkM6",
    "nbgrader": {
     "cell_type": "code",
     "checksum": "74b031247e569526552bf13a034a1c07",
     "grade": false,
     "grade_id": "cell-73fceedad1fe351c",
     "locked": false,
     "schema_version": 3,
     "solution": true,
     "task": false
    }
   },
   "outputs": [],
   "source": [
    "## Please uncomment all lines in this cell and replace those marked with `# YOUR CODE HERE`.\n",
    "## You can select all lines in this code cell with Ctrl+A (Windows/Linux) or Cmd+A (Mac), then press Ctrl+/ (Windows/Linux) or Cmd+/ (Mac) to uncomment.\n",
    "\n",
    "\n",
    "\n",
    "def base_model(inputs):\n",
    "    \n",
    "#     # connect a Dense layer with 128 neurons and a relu activation\n",
    "      x = tf.keras.layers.Dense(128, activation='relu', name='base_dense_1')(inputs)\n",
    "    \n",
    "#     # connect another Dense layer with 128 neurons and a relu activation\n",
    "      x = tf.keras.layers.Dense(128, activation='relu', name='base_dense_2')(x)\n",
    "      return x\n",
    "  "
   ]
  },
  {
   "cell_type": "code",
   "execution_count": 32,
   "metadata": {
    "deletable": false,
    "editable": false,
    "nbgrader": {
     "cell_type": "code",
     "checksum": "9255924b3def80f679616e4c851a43e1",
     "grade": true,
     "grade_id": "cell-54f742a133353d75",
     "locked": true,
     "points": 1,
     "schema_version": 3,
     "solution": false,
     "task": false
    }
   },
   "outputs": [
    {
     "name": "stdout",
     "output_type": "stream",
     "text": [
      "\u001b[92m All public tests passed\n"
     ]
    }
   ],
   "source": [
    "utils.test_base_model(base_model)"
   ]
  },
  {
   "cell_type": "markdown",
   "metadata": {
    "colab_type": "text",
    "id": "xem_fcVws6Kz"
   },
   "source": [
    "# Define output layers of the model (TODO)\n",
    "\n",
    "You will add output layers to the base model. \n",
    "- The model will need two outputs.\n",
    "\n",
    "One output layer will predict wine quality, which is a numeric value.\n",
    "- Define a `Dense` layer with 1 neuron.\n",
    "- Since this is a regression output, the activation can be left as its default value `None`.\n",
    "\n",
    "The other output layer will predict the wine type, which is either red `1` or not red `0` (white).\n",
    "- Define a `Dense` layer with 1 neuron.\n",
    "- Since there are two possible categories, you can use a sigmoid activation for binary classification.\n",
    "\n",
    "Define the `Model`\n",
    "- Define the `Model` object, and set the following parameters:\n",
    "  - `inputs`: pass in the inputs to the model as a list.\n",
    "  - `outputs`: pass in a list of the outputs that you just defined: wine quality, then wine type.\n",
    "  - **Note**: please list the wine quality before wine type in the outputs, as this will affect the calculated loss if you choose the other order."
   ]
  },
  {
   "cell_type": "code",
   "execution_count": 39,
   "metadata": {
    "colab": {},
    "colab_type": "code",
    "deletable": false,
    "id": "n5UGF8PMVLPt",
    "nbgrader": {
     "cell_type": "code",
     "checksum": "76d35b90d20cdcbb22986cd8211057de",
     "grade": false,
     "grade_id": "cell-19e285f482f021fb",
     "locked": false,
     "schema_version": 3,
     "solution": true,
     "task": false
    }
   },
   "outputs": [],
   "source": [
    "## Please uncomment all lines in this cell and replace those marked with `# YOUR CODE HERE`.\n",
    "## You can select all lines in this code cell with Ctrl+A (Windows/Linux) or Cmd+A (Mac), then press Ctrl+/ (Windows/Linux) or Cmd+/ (Mac) to uncomment.\n",
    "\n",
    "\n",
    "\n",
    "def final_model(inputs):\n",
    "    \n",
    "    # get the base model\n",
    "    x = base_model(inputs)\n",
    "\n",
    "    # connect the output Dense layer for regression\n",
    "    wine_quality = Dense(units=1, name='wine_quality')(x)\n",
    "\n",
    "    # connect the output Dense layer for classification. this will use a sigmoid activation.\n",
    "    wine_type = Dense(units=1, activation='sigmoid', name='wine_type')(x)\n",
    "\n",
    "    # define the model using the input and output layers\n",
    "    model = Model(inputs=inputs, outputs=[wine_quality, wine_type])\n",
    "\n",
    "    return model"
   ]
  },
  {
   "cell_type": "code",
   "execution_count": 40,
   "metadata": {
    "deletable": false,
    "editable": false,
    "nbgrader": {
     "cell_type": "code",
     "checksum": "89cbf89d8ab5e2e59ecf7f63f517520a",
     "grade": true,
     "grade_id": "cell-40d050f855c817d1",
     "locked": true,
     "points": 1,
     "schema_version": 3,
     "solution": false,
     "task": false
    }
   },
   "outputs": [
    {
     "name": "stdout",
     "output_type": "stream",
     "text": [
      "\u001b[92m All public tests passed\n"
     ]
    }
   ],
   "source": [
    "utils.test_final_model(final_model)"
   ]
  },
  {
   "cell_type": "markdown",
   "metadata": {
    "colab_type": "text",
    "id": "5R0BMTsltZyu"
   },
   "source": [
    "## Compiling the Model\n",
    "\n",
    "Next, compile the model. When setting the loss parameter of `model.compile`, you're setting the loss for each of the two outputs (wine quality and wine type).\n",
    "\n",
    "To set more than one loss, use a dictionary of key-value pairs.\n",
    "- You can look at the docs for the losses [here](https://www.tensorflow.org/api_docs/python/tf/keras/losses#functions).\n",
    "    - **Note**: For the desired spelling, please look at the \"Functions\" section of the documentation and not the \"classes\" section on that same page.\n",
    "- wine_type: Since you will be performing binary classification on wine type, you should use the binary crossentropy loss function for it.  Please pass this in as a string.  \n",
    "  - **Hint**, this should be all lowercase.  In the documentation, you'll see this under the \"Functions\" section, not the \"Classes\" section.\n",
    "- wine_quality: since this is a regression output, use the mean squared error.  Please pass it in as a string, all lowercase.\n",
    "  - **Hint**: You may notice that there are two aliases for mean squared error.  Please use the shorter name.\n",
    "\n",
    "\n",
    "You will also set the metric for each of the two outputs.  Again, to set metrics for two or more outputs, use a dictionary with key value pairs.\n",
    "- The metrics documentation is linked [here](https://www.tensorflow.org/api_docs/python/tf/keras/metrics).\n",
    "- For the wine type, please set it to accuracy as a string, all lowercase.\n",
    "- For wine quality, please use the root mean squared error.  Instead of a string, you'll set it to an instance of the class [RootMeanSquaredError](https://www.tensorflow.org/api_docs/python/tf/keras/metrics/RootMeanSquaredError), which belongs to the tf.keras.metrics module.\n",
    "\n",
    "**Note**: If you see the error message \n",
    ">Exception: wine quality loss function is incorrect.\n",
    "\n",
    "- Please also check your other losses and metrics, as the error may be caused by the other three key-value pairs and not the wine quality loss."
   ]
  },
  {
   "cell_type": "code",
   "execution_count": 41,
   "metadata": {
    "colab": {},
    "colab_type": "code",
    "deletable": false,
    "id": "LK11duUbUjmh",
    "nbgrader": {
     "cell_type": "code",
     "checksum": "22f45067ca69eb2ccadb43874dbcc27b",
     "grade": false,
     "grade_id": "cell-81afdc4dcca51d5e",
     "locked": false,
     "schema_version": 3,
     "solution": true,
     "task": false
    }
   },
   "outputs": [],
   "source": [
    "## Please uncomment all lines in this cell and replace those marked with `# YOUR CODE HERE`.\n",
    "## You can select all lines in this code cell with Ctrl+A (Windows/Linux) or Cmd+A (Mac), then press Ctrl+/ (Windows/Linux) or Cmd+/ (Mac) to uncomment.\n",
    "\n",
    "\n",
    "\n",
    "inputs = tf.keras.layers.Input(shape=(11,))\n",
    "rms = tf.keras.optimizers.RMSprop(lr=0.0001)\n",
    "model = final_model(inputs)\n",
    "\n",
    "model.compile(optimizer=rms, \n",
    "              loss = {'wine_type' : 'binary_crossentropy',\n",
    "                      'wine_quality' : 'mean_squared_error'\n",
    "                     },\n",
    "              metrics = {'wine_type' : 'accuracy',\n",
    "                         'wine_quality': tf.keras.metrics.RootMeanSquaredError()\n",
    "                       }\n",
    "             )\n"
   ]
  },
  {
   "cell_type": "code",
   "execution_count": 42,
   "metadata": {
    "deletable": false,
    "editable": false,
    "nbgrader": {
     "cell_type": "code",
     "checksum": "88e02238ea5e456ff65e835cc8158054",
     "grade": true,
     "grade_id": "cell-2eeeba02391c4632",
     "locked": true,
     "points": 1,
     "schema_version": 3,
     "solution": false,
     "task": false
    }
   },
   "outputs": [
    {
     "name": "stdout",
     "output_type": "stream",
     "text": [
      "\u001b[92m All public tests passed\n"
     ]
    }
   ],
   "source": [
    "utils.test_model_compile(model)"
   ]
  },
  {
   "cell_type": "markdown",
   "metadata": {
    "colab_type": "text",
    "id": "90MpAMpWuKm-"
   },
   "source": [
    "## Training the Model (TODO)\n",
    "\n",
    "Fit the model to the training inputs and outputs. \n",
    "- Check the documentation for [model.fit](https://www.tensorflow.org/api_docs/python/tf/keras/Model#fit).\n",
    "- Remember to use the normalized training set as inputs. \n",
    "- For the validation data, please use the normalized validation set.\n",
    "\n",
    "**Important: Please do not increase the number of epochs below. This is to avoid the grader from timing out. You can increase it once you have submitted your work.**"
   ]
  },
  {
   "cell_type": "code",
   "execution_count": 44,
   "metadata": {
    "colab": {},
    "colab_type": "code",
    "deletable": false,
    "id": "_eiZkle4XwiY",
    "nbgrader": {
     "cell_type": "code",
     "checksum": "d1a4565296017a0611c6f2de675f96cf",
     "grade": false,
     "grade_id": "cell-0bb56262896f6680",
     "locked": false,
     "schema_version": 3,
     "solution": true,
     "task": false
    }
   },
   "outputs": [
    {
     "name": "stdout",
     "output_type": "stream",
     "text": [
      "Train on 3155 samples, validate on 789 samples\n",
      "Epoch 1/40\n",
      "3155/3155 [==============================] - 1s 442us/sample - loss: 23.4844 - wine_quality_loss: 22.8293 - wine_type_loss: 0.6338 - wine_quality_root_mean_squared_error: 4.7802 - wine_type_accuracy: 0.7639 - val_loss: 16.0604 - val_wine_quality_loss: 15.4259 - val_wine_type_loss: 0.6027 - val_wine_quality_root_mean_squared_error: 3.9317 - val_wine_type_accuracy: 0.7503\n",
      "Epoch 2/40\n",
      "3155/3155 [==============================] - 0s 139us/sample - loss: 10.4247 - wine_quality_loss: 9.8441 - wine_type_loss: 0.5613 - wine_quality_root_mean_squared_error: 3.1406 - wine_type_accuracy: 0.7474 - val_loss: 5.7689 - val_wine_quality_loss: 5.2429 - val_wine_type_loss: 0.5279 - val_wine_quality_root_mean_squared_error: 2.2895 - val_wine_type_accuracy: 0.7326\n",
      "Epoch 3/40\n",
      "3155/3155 [==============================] - 0s 109us/sample - loss: 3.7019 - wine_quality_loss: 3.2293 - wine_type_loss: 0.4672 - wine_quality_root_mean_squared_error: 1.7985 - wine_type_accuracy: 0.7582 - val_loss: 2.8005 - val_wine_quality_loss: 2.3989 - val_wine_type_loss: 0.4117 - val_wine_quality_root_mean_squared_error: 1.5457 - val_wine_type_accuracy: 0.7769\n",
      "Epoch 4/40\n",
      "3155/3155 [==============================] - 0s 124us/sample - loss: 2.4588 - wine_quality_loss: 2.0943 - wine_type_loss: 0.3615 - wine_quality_root_mean_squared_error: 1.4481 - wine_type_accuracy: 0.8444 - val_loss: 2.2576 - val_wine_quality_loss: 1.9499 - val_wine_type_loss: 0.3115 - val_wine_quality_root_mean_squared_error: 1.3950 - val_wine_type_accuracy: 0.9075\n",
      "Epoch 5/40\n",
      "3155/3155 [==============================] - 0s 116us/sample - loss: 2.0812 - wine_quality_loss: 1.8005 - wine_type_loss: 0.2777 - wine_quality_root_mean_squared_error: 1.3428 - wine_type_accuracy: 0.9331 - val_loss: 1.9522 - val_wine_quality_loss: 1.7187 - val_wine_type_loss: 0.2363 - val_wine_quality_root_mean_squared_error: 1.3098 - val_wine_type_accuracy: 0.9582\n",
      "Epoch 6/40\n",
      "3155/3155 [==============================] - 0s 108us/sample - loss: 1.8371 - wine_quality_loss: 1.6242 - wine_type_loss: 0.2164 - wine_quality_root_mean_squared_error: 1.2732 - wine_type_accuracy: 0.9645 - val_loss: 1.7640 - val_wine_quality_loss: 1.5882 - val_wine_type_loss: 0.1794 - val_wine_quality_root_mean_squared_error: 1.2587 - val_wine_type_accuracy: 0.9747\n",
      "Epoch 7/40\n",
      "3155/3155 [==============================] - 0s 123us/sample - loss: 1.6659 - wine_quality_loss: 1.4930 - wine_type_loss: 0.1712 - wine_quality_root_mean_squared_error: 1.2226 - wine_type_accuracy: 0.9781 - val_loss: 1.6406 - val_wine_quality_loss: 1.5043 - val_wine_type_loss: 0.1397 - val_wine_quality_root_mean_squared_error: 1.2250 - val_wine_type_accuracy: 0.9848\n",
      "Epoch 8/40\n",
      "3155/3155 [==============================] - 0s 114us/sample - loss: 1.5375 - wine_quality_loss: 1.3975 - wine_type_loss: 0.1394 - wine_quality_root_mean_squared_error: 1.1823 - wine_type_accuracy: 0.9813 - val_loss: 1.5153 - val_wine_quality_loss: 1.4074 - val_wine_type_loss: 0.1121 - val_wine_quality_root_mean_squared_error: 1.1844 - val_wine_type_accuracy: 0.9886\n",
      "Epoch 9/40\n",
      "3155/3155 [==============================] - 0s 106us/sample - loss: 1.4190 - wine_quality_loss: 1.3027 - wine_type_loss: 0.1156 - wine_quality_root_mean_squared_error: 1.1416 - wine_type_accuracy: 0.9838 - val_loss: 1.4069 - val_wine_quality_loss: 1.3193 - val_wine_type_loss: 0.0919 - val_wine_quality_root_mean_squared_error: 1.1466 - val_wine_type_accuracy: 0.9924\n",
      "Epoch 10/40\n",
      "3155/3155 [==============================] - 0s 120us/sample - loss: 1.3213 - wine_quality_loss: 1.2217 - wine_type_loss: 0.0985 - wine_quality_root_mean_squared_error: 1.1057 - wine_type_accuracy: 0.9854 - val_loss: 1.3163 - val_wine_quality_loss: 1.2430 - val_wine_type_loss: 0.0772 - val_wine_quality_root_mean_squared_error: 1.1130 - val_wine_type_accuracy: 0.9937\n",
      "Epoch 11/40\n",
      "3155/3155 [==============================] - 0s 122us/sample - loss: 1.2280 - wine_quality_loss: 1.1413 - wine_type_loss: 0.0863 - wine_quality_root_mean_squared_error: 1.0685 - wine_type_accuracy: 0.9873 - val_loss: 1.2465 - val_wine_quality_loss: 1.1849 - val_wine_type_loss: 0.0660 - val_wine_quality_root_mean_squared_error: 1.0864 - val_wine_type_accuracy: 0.9937\n",
      "Epoch 12/40\n",
      "3155/3155 [==============================] - 0s 111us/sample - loss: 1.1498 - wine_quality_loss: 1.0725 - wine_type_loss: 0.0770 - wine_quality_root_mean_squared_error: 1.0359 - wine_type_accuracy: 0.9883 - val_loss: 1.1733 - val_wine_quality_loss: 1.1192 - val_wine_type_loss: 0.0579 - val_wine_quality_root_mean_squared_error: 1.0560 - val_wine_type_accuracy: 0.9962\n",
      "Epoch 13/40\n",
      "3155/3155 [==============================] - 0s 117us/sample - loss: 1.0797 - wine_quality_loss: 1.0219 - wine_type_loss: 0.0698 - wine_quality_root_mean_squared_error: 1.0050 - wine_type_accuracy: 0.9883 - val_loss: 1.1216 - val_wine_quality_loss: 1.0743 - val_wine_type_loss: 0.0512 - val_wine_quality_root_mean_squared_error: 1.0344 - val_wine_type_accuracy: 0.9962\n",
      "Epoch 14/40\n",
      "3155/3155 [==============================] - 0s 106us/sample - loss: 1.0188 - wine_quality_loss: 0.9550 - wine_type_loss: 0.0639 - wine_quality_root_mean_squared_error: 0.9772 - wine_type_accuracy: 0.9892 - val_loss: 1.0590 - val_wine_quality_loss: 1.0157 - val_wine_type_loss: 0.0463 - val_wine_quality_root_mean_squared_error: 1.0062 - val_wine_type_accuracy: 0.9962\n",
      "Epoch 15/40\n",
      "3155/3155 [==============================] - 0s 121us/sample - loss: 0.9652 - wine_quality_loss: 0.9057 - wine_type_loss: 0.0600 - wine_quality_root_mean_squared_error: 0.9516 - wine_type_accuracy: 0.9905 - val_loss: 0.9944 - val_wine_quality_loss: 0.9548 - val_wine_type_loss: 0.0423 - val_wine_quality_root_mean_squared_error: 0.9756 - val_wine_type_accuracy: 0.9962\n",
      "Epoch 16/40\n",
      "3155/3155 [==============================] - 0s 121us/sample - loss: 0.9136 - wine_quality_loss: 0.8583 - wine_type_loss: 0.0559 - wine_quality_root_mean_squared_error: 0.9261 - wine_type_accuracy: 0.9908 - val_loss: 0.9480 - val_wine_quality_loss: 0.9122 - val_wine_type_loss: 0.0391 - val_wine_quality_root_mean_squared_error: 0.9533 - val_wine_type_accuracy: 0.9962\n",
      "Epoch 17/40\n",
      "3155/3155 [==============================] - 0s 122us/sample - loss: 0.8638 - wine_quality_loss: 0.8106 - wine_type_loss: 0.0529 - wine_quality_root_mean_squared_error: 0.9004 - wine_type_accuracy: 0.9905 - val_loss: 0.8923 - val_wine_quality_loss: 0.8580 - val_wine_type_loss: 0.0363 - val_wine_quality_root_mean_squared_error: 0.9251 - val_wine_type_accuracy: 0.9962\n",
      "Epoch 18/40\n",
      "3155/3155 [==============================] - 0s 105us/sample - loss: 0.8180 - wine_quality_loss: 0.7669 - wine_type_loss: 0.0505 - wine_quality_root_mean_squared_error: 0.8760 - wine_type_accuracy: 0.9908 - val_loss: 0.8538 - val_wine_quality_loss: 0.8218 - val_wine_type_loss: 0.0341 - val_wine_quality_root_mean_squared_error: 0.9052 - val_wine_type_accuracy: 0.9962\n",
      "Epoch 19/40\n",
      "3155/3155 [==============================] - 0s 119us/sample - loss: 0.7803 - wine_quality_loss: 0.7323 - wine_type_loss: 0.0483 - wine_quality_root_mean_squared_error: 0.8555 - wine_type_accuracy: 0.9908 - val_loss: 0.8099 - val_wine_quality_loss: 0.7794 - val_wine_type_loss: 0.0322 - val_wine_quality_root_mean_squared_error: 0.8817 - val_wine_type_accuracy: 0.9962\n",
      "Epoch 20/40\n",
      "3155/3155 [==============================] - 0s 108us/sample - loss: 0.7412 - wine_quality_loss: 0.6944 - wine_type_loss: 0.0466 - wine_quality_root_mean_squared_error: 0.8334 - wine_type_accuracy: 0.9908 - val_loss: 0.7846 - val_wine_quality_loss: 0.7563 - val_wine_type_loss: 0.0306 - val_wine_quality_root_mean_squared_error: 0.8682 - val_wine_type_accuracy: 0.9962\n",
      "Epoch 21/40\n",
      "3155/3155 [==============================] - 0s 118us/sample - loss: 0.7051 - wine_quality_loss: 0.6590 - wine_type_loss: 0.0454 - wine_quality_root_mean_squared_error: 0.8124 - wine_type_accuracy: 0.9911 - val_loss: 0.7428 - val_wine_quality_loss: 0.7147 - val_wine_type_loss: 0.0292 - val_wine_quality_root_mean_squared_error: 0.8446 - val_wine_type_accuracy: 0.9962\n",
      "Epoch 22/40\n"
     ]
    },
    {
     "name": "stdout",
     "output_type": "stream",
     "text": [
      "3155/3155 [==============================] - 0s 128us/sample - loss: 0.6717 - wine_quality_loss: 0.6271 - wine_type_loss: 0.0438 - wine_quality_root_mean_squared_error: 0.7923 - wine_type_accuracy: 0.9911 - val_loss: 0.7127 - val_wine_quality_loss: 0.6859 - val_wine_type_loss: 0.0280 - val_wine_quality_root_mean_squared_error: 0.8273 - val_wine_type_accuracy: 0.9975\n",
      "Epoch 23/40\n",
      "3155/3155 [==============================] - 0s 125us/sample - loss: 0.6393 - wine_quality_loss: 0.5954 - wine_type_loss: 0.0425 - wine_quality_root_mean_squared_error: 0.7724 - wine_type_accuracy: 0.9918 - val_loss: 0.6823 - val_wine_quality_loss: 0.6566 - val_wine_type_loss: 0.0269 - val_wine_quality_root_mean_squared_error: 0.8094 - val_wine_type_accuracy: 0.9975\n",
      "Epoch 24/40\n",
      "3155/3155 [==============================] - 0s 102us/sample - loss: 0.6122 - wine_quality_loss: 0.5704 - wine_type_loss: 0.0414 - wine_quality_root_mean_squared_error: 0.7554 - wine_type_accuracy: 0.9927 - val_loss: 0.6506 - val_wine_quality_loss: 0.6255 - val_wine_type_loss: 0.0260 - val_wine_quality_root_mean_squared_error: 0.7902 - val_wine_type_accuracy: 0.9975\n",
      "Epoch 25/40\n",
      "3155/3155 [==============================] - 0s 118us/sample - loss: 0.5877 - wine_quality_loss: 0.5478 - wine_type_loss: 0.0405 - wine_quality_root_mean_squared_error: 0.7397 - wine_type_accuracy: 0.9927 - val_loss: 0.6341 - val_wine_quality_loss: 0.6099 - val_wine_type_loss: 0.0253 - val_wine_quality_root_mean_squared_error: 0.7801 - val_wine_type_accuracy: 0.9975\n",
      "Epoch 26/40\n",
      "3155/3155 [==============================] - 0s 120us/sample - loss: 0.5658 - wine_quality_loss: 0.5264 - wine_type_loss: 0.0398 - wine_quality_root_mean_squared_error: 0.7252 - wine_type_accuracy: 0.9927 - val_loss: 0.5987 - val_wine_quality_loss: 0.5738 - val_wine_type_loss: 0.0245 - val_wine_quality_root_mean_squared_error: 0.7576 - val_wine_type_accuracy: 0.9975\n",
      "Epoch 27/40\n",
      "3155/3155 [==============================] - 0s 105us/sample - loss: 0.5421 - wine_quality_loss: 0.5017 - wine_type_loss: 0.0389 - wine_quality_root_mean_squared_error: 0.7093 - wine_type_accuracy: 0.9924 - val_loss: 0.5814 - val_wine_quality_loss: 0.5568 - val_wine_type_loss: 0.0238 - val_wine_quality_root_mean_squared_error: 0.7465 - val_wine_type_accuracy: 0.9975\n",
      "Epoch 28/40\n",
      "3155/3155 [==============================] - 0s 124us/sample - loss: 0.5245 - wine_quality_loss: 0.4857 - wine_type_loss: 0.0383 - wine_quality_root_mean_squared_error: 0.6972 - wine_type_accuracy: 0.9927 - val_loss: 0.5696 - val_wine_quality_loss: 0.5464 - val_wine_type_loss: 0.0233 - val_wine_quality_root_mean_squared_error: 0.7390 - val_wine_type_accuracy: 0.9975\n",
      "Epoch 29/40\n",
      "3155/3155 [==============================] - 0s 118us/sample - loss: 0.5054 - wine_quality_loss: 0.4672 - wine_type_loss: 0.0379 - wine_quality_root_mean_squared_error: 0.6838 - wine_type_accuracy: 0.9933 - val_loss: 0.5551 - val_wine_quality_loss: 0.5328 - val_wine_type_loss: 0.0229 - val_wine_quality_root_mean_squared_error: 0.7294 - val_wine_type_accuracy: 0.9975\n",
      "Epoch 30/40\n",
      "3155/3155 [==============================] - 0s 111us/sample - loss: 0.4880 - wine_quality_loss: 0.4503 - wine_type_loss: 0.0371 - wine_quality_root_mean_squared_error: 0.6714 - wine_type_accuracy: 0.9933 - val_loss: 0.5334 - val_wine_quality_loss: 0.5111 - val_wine_type_loss: 0.0224 - val_wine_quality_root_mean_squared_error: 0.7147 - val_wine_type_accuracy: 0.9975\n",
      "Epoch 31/40\n",
      "3155/3155 [==============================] - 0s 123us/sample - loss: 0.4739 - wine_quality_loss: 0.4367 - wine_type_loss: 0.0367 - wine_quality_root_mean_squared_error: 0.6611 - wine_type_accuracy: 0.9933 - val_loss: 0.5193 - val_wine_quality_loss: 0.4973 - val_wine_type_loss: 0.0220 - val_wine_quality_root_mean_squared_error: 0.7051 - val_wine_type_accuracy: 0.9975\n",
      "Epoch 32/40\n",
      "3155/3155 [==============================] - 0s 125us/sample - loss: 0.4594 - wine_quality_loss: 0.4224 - wine_type_loss: 0.0377 - wine_quality_root_mean_squared_error: 0.6504 - wine_type_accuracy: 0.9937 - val_loss: 0.5061 - val_wine_quality_loss: 0.4845 - val_wine_type_loss: 0.0215 - val_wine_quality_root_mean_squared_error: 0.6960 - val_wine_type_accuracy: 0.9975\n",
      "Epoch 33/40\n",
      "3155/3155 [==============================] - 0s 119us/sample - loss: 0.4466 - wine_quality_loss: 0.4110 - wine_type_loss: 0.0357 - wine_quality_root_mean_squared_error: 0.6409 - wine_type_accuracy: 0.9940 - val_loss: 0.5007 - val_wine_quality_loss: 0.4797 - val_wine_type_loss: 0.0212 - val_wine_quality_root_mean_squared_error: 0.6923 - val_wine_type_accuracy: 0.9975\n",
      "Epoch 34/40\n",
      "3155/3155 [==============================] - 0s 105us/sample - loss: 0.4360 - wine_quality_loss: 0.4000 - wine_type_loss: 0.0354 - wine_quality_root_mean_squared_error: 0.6329 - wine_type_accuracy: 0.9940 - val_loss: 0.4814 - val_wine_quality_loss: 0.4599 - val_wine_type_loss: 0.0208 - val_wine_quality_root_mean_squared_error: 0.6785 - val_wine_type_accuracy: 0.9975\n",
      "Epoch 35/40\n",
      "3155/3155 [==============================] - 0s 122us/sample - loss: 0.4261 - wine_quality_loss: 0.3907 - wine_type_loss: 0.0349 - wine_quality_root_mean_squared_error: 0.6254 - wine_type_accuracy: 0.9943 - val_loss: 0.4740 - val_wine_quality_loss: 0.4529 - val_wine_type_loss: 0.0205 - val_wine_quality_root_mean_squared_error: 0.6732 - val_wine_type_accuracy: 0.9975\n",
      "Epoch 36/40\n",
      "3155/3155 [==============================] - 0s 118us/sample - loss: 0.4176 - wine_quality_loss: 0.3825 - wine_type_loss: 0.0345 - wine_quality_root_mean_squared_error: 0.6189 - wine_type_accuracy: 0.9943 - val_loss: 0.4644 - val_wine_quality_loss: 0.4435 - val_wine_type_loss: 0.0202 - val_wine_quality_root_mean_squared_error: 0.6663 - val_wine_type_accuracy: 0.9962\n",
      "Epoch 37/40\n",
      "3155/3155 [==============================] - 0s 105us/sample - loss: 0.4086 - wine_quality_loss: 0.3745 - wine_type_loss: 0.0343 - wine_quality_root_mean_squared_error: 0.6118 - wine_type_accuracy: 0.9943 - val_loss: 0.4586 - val_wine_quality_loss: 0.4378 - val_wine_type_loss: 0.0200 - val_wine_quality_root_mean_squared_error: 0.6622 - val_wine_type_accuracy: 0.9975\n",
      "Epoch 38/40\n",
      "3155/3155 [==============================] - 0s 126us/sample - loss: 0.4013 - wine_quality_loss: 0.3673 - wine_type_loss: 0.0340 - wine_quality_root_mean_squared_error: 0.6060 - wine_type_accuracy: 0.9943 - val_loss: 0.4498 - val_wine_quality_loss: 0.4295 - val_wine_type_loss: 0.0197 - val_wine_quality_root_mean_squared_error: 0.6556 - val_wine_type_accuracy: 0.9975\n",
      "Epoch 39/40\n",
      "3155/3155 [==============================] - 0s 117us/sample - loss: 0.3953 - wine_quality_loss: 0.3617 - wine_type_loss: 0.0337 - wine_quality_root_mean_squared_error: 0.6013 - wine_type_accuracy: 0.9943 - val_loss: 0.4409 - val_wine_quality_loss: 0.4207 - val_wine_type_loss: 0.0194 - val_wine_quality_root_mean_squared_error: 0.6491 - val_wine_type_accuracy: 0.9975\n",
      "Epoch 40/40\n",
      "3155/3155 [==============================] - 0s 107us/sample - loss: 0.3866 - wine_quality_loss: 0.3529 - wine_type_loss: 0.0334 - wine_quality_root_mean_squared_error: 0.5942 - wine_type_accuracy: 0.9943 - val_loss: 0.4458 - val_wine_quality_loss: 0.4252 - val_wine_type_loss: 0.0193 - val_wine_quality_root_mean_squared_error: 0.6529 - val_wine_type_accuracy: 0.9975\n"
     ]
    }
   ],
   "source": [
    "## Please uncomment all lines in this cell and replace those marked with `# YOUR CODE HERE`.\n",
    "## You can select all lines in this code cell with Ctrl+A (Windows/Linux) or Cmd+A (Mac), then press Ctrl+/ (Windows/Linux) or Cmd+/ (Mac) to uncomment.\n",
    "\n",
    "\n",
    "\n",
    "history = model.fit(norm_train_X, train_Y,\n",
    "                    epochs = 40, validation_data=(norm_val_X, val_Y))"
   ]
  },
  {
   "cell_type": "code",
   "execution_count": 45,
   "metadata": {
    "deletable": false,
    "editable": false,
    "nbgrader": {
     "cell_type": "code",
     "checksum": "fadad8896eda9c8c2115970724b15508",
     "grade": true,
     "grade_id": "cell-eb4d5b41bef8f0ab",
     "locked": true,
     "points": 1,
     "schema_version": 3,
     "solution": false,
     "task": false
    }
   },
   "outputs": [
    {
     "name": "stdout",
     "output_type": "stream",
     "text": [
      "\u001b[92m All public tests passed\n"
     ]
    }
   ],
   "source": [
    "utils.test_history(history)"
   ]
  },
  {
   "cell_type": "code",
   "execution_count": 50,
   "metadata": {
    "colab": {},
    "colab_type": "code",
    "id": "CubF2J2gSf6q"
   },
   "outputs": [
    {
     "name": "stdout",
     "output_type": "stream",
     "text": [
      "789/789 [==============================] - 0s 40us/sample - loss: 0.4458 - wine_quality_loss: 0.4252 - wine_type_loss: 0.0193 - wine_quality_root_mean_squared_error: 0.6529 - wine_type_accuracy: 0.9975\n",
      "\n",
      "loss: 0.44576078128300994\n",
      "wine_quality_loss: 0.42518189549446106\n",
      "wine_type_loss: 0.019341109320521355\n",
      "wine_quality_rmse: 0.6528510451316833\n",
      "wine_type_accuracy: 0.9974651336669922\n"
     ]
    }
   ],
   "source": [
    "# Gather the training metrics\n",
    "loss, wine_quality_loss, wine_type_loss, wine_quality_rmse, wine_type_accuracy = model.evaluate(x=norm_val_X, y=val_Y)\n",
    "\n",
    "print()\n",
    "print(f'loss: {loss}')\n",
    "print(f'wine_quality_loss: {wine_quality_loss}')\n",
    "print(f'wine_type_loss: {wine_type_loss}')\n",
    "print(f'wine_quality_rmse: {wine_quality_rmse}')\n",
    "print(f'wine_type_accuracy: {wine_type_accuracy}')\n",
    "\n",
    "# EXPECTED VALUES\n",
    "# ~ 0.30 - 0.38\n",
    "# ~ 0.30 - 0.38\n",
    "# ~ 0.018 - 0.036\n",
    "# ~ 0.50 - 0.62\n",
    "# ~ 0.97 - 1.0\n",
    "\n",
    "# Example:\n",
    "#0.3657050132751465\n",
    "#0.3463745415210724\n",
    "#0.019330406561493874\n",
    "#0.5885359048843384\n",
    "#0.9974651336669922"
   ]
  },
  {
   "cell_type": "markdown",
   "metadata": {
    "colab_type": "text",
    "id": "gPtTGAP4usnm"
   },
   "source": [
    "## Analyze the Model Performance\n",
    "\n",
    "Note that the model has two outputs. The output at index 0 is quality and index 1 is wine type\n",
    "\n",
    "So, round the quality predictions to the nearest integer."
   ]
  },
  {
   "cell_type": "code",
   "execution_count": 51,
   "metadata": {
    "colab": {},
    "colab_type": "code",
    "id": "tBq9PEeAaW-Y"
   },
   "outputs": [],
   "source": [
    "predictions = model.predict(norm_test_X)\n",
    "quality_pred = predictions[0]\n",
    "type_pred = predictions[1]"
   ]
  },
  {
   "cell_type": "code",
   "execution_count": 52,
   "metadata": {
    "colab": {},
    "colab_type": "code",
    "id": "YLhgTR4xTIxj"
   },
   "outputs": [
    {
     "name": "stdout",
     "output_type": "stream",
     "text": [
      "[5.7155213]\n"
     ]
    }
   ],
   "source": [
    "print(quality_pred[0])\n",
    "\n",
    "# EXPECTED OUTPUT\n",
    "# 5.4 - 6.0"
   ]
  },
  {
   "cell_type": "code",
   "execution_count": 53,
   "metadata": {
    "colab": {},
    "colab_type": "code",
    "id": "MPi-eYfGTUXi"
   },
   "outputs": [
    {
     "name": "stdout",
     "output_type": "stream",
     "text": [
      "[0.00144048]\n",
      "[0.00031045]\n"
     ]
    }
   ],
   "source": [
    "print(type_pred[0])\n",
    "print(type_pred[944])\n",
    "\n",
    "# EXPECTED OUTPUT\n",
    "# A number close to zero\n",
    "# A number close to or equal to 1"
   ]
  },
  {
   "cell_type": "markdown",
   "metadata": {
    "colab_type": "text",
    "id": "Kohk-9C6vt_s"
   },
   "source": [
    "### Plot Utilities\n",
    "\n",
    "We define a few utilities to visualize the model performance."
   ]
  },
  {
   "cell_type": "code",
   "execution_count": 54,
   "metadata": {
    "colab": {},
    "colab_type": "code",
    "id": "62gEOFUhn6aQ"
   },
   "outputs": [],
   "source": [
    "def plot_metrics(metric_name, title, ylim=5):\n",
    "    plt.title(title)\n",
    "    plt.ylim(0,ylim)\n",
    "    plt.plot(history.history[metric_name],color='blue',label=metric_name)\n",
    "    plt.plot(history.history['val_' + metric_name],color='green',label='val_' + metric_name)\n"
   ]
  },
  {
   "cell_type": "code",
   "execution_count": 55,
   "metadata": {
    "colab": {},
    "colab_type": "code",
    "id": "6rfgSx7uz5dj"
   },
   "outputs": [],
   "source": [
    "def plot_confusion_matrix(y_true, y_pred, title='', labels=[0,1]):\n",
    "    cm = confusion_matrix(test_Y[1], np.round(type_pred), labels=[0, 1])\n",
    "    disp = ConfusionMatrixDisplay(confusion_matrix=cm,\n",
    "                                  display_labels=[0, 1])\n",
    "    disp.plot(values_format='d');"
   ]
  },
  {
   "cell_type": "code",
   "execution_count": 56,
   "metadata": {
    "colab": {},
    "colab_type": "code",
    "id": "dfVLIqi017Vf"
   },
   "outputs": [],
   "source": [
    "def plot_diff(y_true, y_pred, title = '' ):\n",
    "    plt.scatter(y_true, y_pred)\n",
    "    plt.title(title)\n",
    "    plt.xlabel('True Values')\n",
    "    plt.ylabel('Predictions')\n",
    "    plt.axis('equal')\n",
    "    plt.axis('square')\n",
    "    plt.plot([-100, 100], [-100, 100])\n",
    "    return plt"
   ]
  },
  {
   "cell_type": "markdown",
   "metadata": {
    "colab_type": "text",
    "id": "8sd1jdFbwE0I"
   },
   "source": [
    "### Plots for Metrics"
   ]
  },
  {
   "cell_type": "code",
   "execution_count": 57,
   "metadata": {
    "colab": {},
    "colab_type": "code",
    "id": "f3MwZ5J1pOfj"
   },
   "outputs": [
    {
     "data": {
      "image/png": "[encoded data removed]",
      "text/plain": [
       "<Figure size 432x288 with 1 Axes>"
      ]
     },
     "metadata": {
      "needs_background": "light"
     },
     "output_type": "display_data"
    }
   ],
   "source": [
    "plot_metrics('wine_quality_root_mean_squared_error', 'RMSE', ylim=2)"
   ]
  },
  {
   "cell_type": "code",
   "execution_count": 58,
   "metadata": {
    "colab": {},
    "colab_type": "code",
    "id": "QIAxEezCppnd"
   },
   "outputs": [
    {
     "data": {
      "image/png": "[encoded data removed]",
      "text/plain": [
       "<Figure size 432x288 with 1 Axes>"
      ]
     },
     "metadata": {
      "needs_background": "light"
     },
     "output_type": "display_data"
    }
   ],
   "source": [
    "plot_metrics('wine_type_loss', 'Wine Type Loss', ylim=0.2)"
   ]
  },
  {
   "cell_type": "markdown",
   "metadata": {
    "colab_type": "text",
    "id": "uYV9AOAMwI9p"
   },
   "source": [
    "### Plots for Confusion Matrix\n",
    "\n",
    "Plot the confusion matrices for wine type. You can see that the model performs well for prediction of wine type from the confusion matrix and the loss metrics."
   ]
  },
  {
   "cell_type": "code",
   "execution_count": 59,
   "metadata": {
    "colab": {},
    "colab_type": "code",
    "id": "C3hvTYxIaf3n"
   },
   "outputs": [
    {
     "data": {
      "image/png": "[encoded data removed]",
      "text/plain": [
       "<Figure size 432x288 with 2 Axes>"
      ]
     },
     "metadata": {
      "needs_background": "light"
     },
     "output_type": "display_data"
    }
   ],
   "source": [
    "plot_confusion_matrix(test_Y[1], np.round(type_pred), title='Wine Type', labels = [0, 1])"
   ]
  },
  {
   "cell_type": "code",
   "execution_count": 60,
   "metadata": {
    "colab": {},
    "colab_type": "code",
    "id": "GW91ym8P2I5y"
   },
   "outputs": [
    {
     "data": {
      "image/png": "[encoded data removed]",
      "text/plain": [
       "<Figure size 432x288 with 1 Axes>"
      ]
     },
     "metadata": {
      "needs_background": "light"
     },
     "output_type": "display_data"
    }
   ],
   "source": [
    "scatter_plot = plot_diff(test_Y[0], quality_pred, title='Type')"
   ]
  },
  {
   "cell_type": "code",
   "execution_count": null,
   "metadata": {},
   "outputs": [],
   "source": []
  }
 ],
 "metadata": {
  "colab": {
   "include_colab_link": true,
   "name": "exercise-answer.ipynb",
   "provenance": []
  },
  "kernelspec": {
   "display_name": "Python 3",
   "language": "python",
   "name": "python3"
  },
  "language_info": {
   "codemirror_mode": {
    "name": "ipython",
    "version": 3
   },
   "file_extension": ".py",
   "mimetype": "text/x-python",
   "name": "python",
   "nbconvert_exporter": "python",
   "pygments_lexer": "ipython3",
   "version": "3.7.6"
  }
 },
 "nbformat": 4,
 "nbformat_minor": 4
}
